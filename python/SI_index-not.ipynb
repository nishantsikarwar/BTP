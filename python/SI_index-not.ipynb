{
 "cells": [
  {
   "cell_type": "code",
   "execution_count": 1,
   "metadata": {},
   "outputs": [
    {
     "ename": "ModuleNotFoundError",
     "evalue": "No module named 'vtkOpenGLKitPython'",
     "output_type": "error",
     "traceback": [
      "\u001b[0;31m---------------------------------------------------------------------------\u001b[0m",
      "\u001b[0;31mImportError\u001b[0m                               Traceback (most recent call last)",
      "\u001b[0;32m/home/granular/snap/jupyter/common/lib/python3.7/site-packages/vtk/vtkOpenGLKit.py\u001b[0m in \u001b[0;36m<module>\u001b[0;34m\u001b[0m\n\u001b[1;32m      4\u001b[0m     \u001b[0;31m# use relative import for installed modules\u001b[0m\u001b[0;34m\u001b[0m\u001b[0;34m\u001b[0m\u001b[0;34m\u001b[0m\u001b[0m\n\u001b[0;32m----> 5\u001b[0;31m     \u001b[0;32mfrom\u001b[0m \u001b[0;34m.\u001b[0m\u001b[0mvtkOpenGLKitPython\u001b[0m \u001b[0;32mimport\u001b[0m \u001b[0;34m*\u001b[0m\u001b[0;34m\u001b[0m\u001b[0;34m\u001b[0m\u001b[0m\n\u001b[0m\u001b[1;32m      6\u001b[0m \u001b[0;32mexcept\u001b[0m \u001b[0mImportError\u001b[0m\u001b[0;34m:\u001b[0m\u001b[0;34m\u001b[0m\u001b[0;34m\u001b[0m\u001b[0m\n",
      "\u001b[0;31mImportError\u001b[0m: libSM.so.6: cannot open shared object file: No such file or directory",
      "\nDuring handling of the above exception, another exception occurred:\n",
      "\u001b[0;31mModuleNotFoundError\u001b[0m                       Traceback (most recent call last)",
      "\u001b[0;32m<ipython-input-1-1fef1c283094>\u001b[0m in \u001b[0;36m<module>\u001b[0;34m\u001b[0m\n\u001b[1;32m      6\u001b[0m \u001b[0mget_ipython\u001b[0m\u001b[0;34m(\u001b[0m\u001b[0;34m)\u001b[0m\u001b[0;34m.\u001b[0m\u001b[0mrun_line_magic\u001b[0m\u001b[0;34m(\u001b[0m\u001b[0;34m'matplotlib'\u001b[0m\u001b[0;34m,\u001b[0m \u001b[0;34m'inline'\u001b[0m\u001b[0;34m)\u001b[0m\u001b[0;34m\u001b[0m\u001b[0;34m\u001b[0m\u001b[0m\n\u001b[1;32m      7\u001b[0m \u001b[0;34m\u001b[0m\u001b[0m\n\u001b[0;32m----> 8\u001b[0;31m \u001b[0;32mimport\u001b[0m \u001b[0mvtk\u001b[0m\u001b[0;34m\u001b[0m\u001b[0;34m\u001b[0m\u001b[0m\n\u001b[0m\u001b[1;32m      9\u001b[0m \u001b[0;32mimport\u001b[0m \u001b[0mcsv\u001b[0m\u001b[0;34m\u001b[0m\u001b[0;34m\u001b[0m\u001b[0m\n",
      "\u001b[0;32m/home/granular/snap/jupyter/common/lib/python3.7/site-packages/vtk/__init__.py\u001b[0m in \u001b[0;36m<module>\u001b[0;34m\u001b[0m\n\u001b[1;32m     10\u001b[0m \u001b[0;32mfrom\u001b[0m \u001b[0;34m.\u001b[0m\u001b[0mvtkRenderingKit\u001b[0m \u001b[0;32mimport\u001b[0m \u001b[0;34m*\u001b[0m\u001b[0;34m\u001b[0m\u001b[0;34m\u001b[0m\u001b[0m\n\u001b[1;32m     11\u001b[0m \u001b[0;32mfrom\u001b[0m \u001b[0;34m.\u001b[0m\u001b[0mvtkIOKit\u001b[0m \u001b[0;32mimport\u001b[0m \u001b[0;34m*\u001b[0m\u001b[0;34m\u001b[0m\u001b[0;34m\u001b[0m\u001b[0m\n\u001b[0;32m---> 12\u001b[0;31m \u001b[0;32mfrom\u001b[0m \u001b[0;34m.\u001b[0m\u001b[0mvtkOpenGLKit\u001b[0m \u001b[0;32mimport\u001b[0m \u001b[0;34m*\u001b[0m\u001b[0;34m\u001b[0m\u001b[0;34m\u001b[0m\u001b[0m\n\u001b[0m\u001b[1;32m     13\u001b[0m \u001b[0;32mfrom\u001b[0m \u001b[0;34m.\u001b[0m\u001b[0mvtkParallelKit\u001b[0m \u001b[0;32mimport\u001b[0m \u001b[0;34m*\u001b[0m\u001b[0;34m\u001b[0m\u001b[0;34m\u001b[0m\u001b[0m\n\u001b[1;32m     14\u001b[0m \u001b[0;32mfrom\u001b[0m \u001b[0;34m.\u001b[0m\u001b[0mvtkWrappingKit\u001b[0m \u001b[0;32mimport\u001b[0m \u001b[0;34m*\u001b[0m\u001b[0;34m\u001b[0m\u001b[0;34m\u001b[0m\u001b[0m\n",
      "\u001b[0;32m/home/granular/snap/jupyter/common/lib/python3.7/site-packages/vtk/vtkOpenGLKit.py\u001b[0m in \u001b[0;36m<module>\u001b[0;34m\u001b[0m\n\u001b[1;32m      7\u001b[0m     \u001b[0;31m# during build and testing, the modules will be elsewhere,\u001b[0m\u001b[0;34m\u001b[0m\u001b[0;34m\u001b[0m\u001b[0;34m\u001b[0m\u001b[0m\n\u001b[1;32m      8\u001b[0m     \u001b[0;31m# e.g. in lib directory or Release/Debug config directories\u001b[0m\u001b[0;34m\u001b[0m\u001b[0;34m\u001b[0m\u001b[0;34m\u001b[0m\u001b[0m\n\u001b[0;32m----> 9\u001b[0;31m     \u001b[0;32mfrom\u001b[0m \u001b[0mvtkOpenGLKitPython\u001b[0m \u001b[0;32mimport\u001b[0m \u001b[0;34m*\u001b[0m\u001b[0;34m\u001b[0m\u001b[0;34m\u001b[0m\u001b[0m\n\u001b[0m",
      "\u001b[0;31mModuleNotFoundError\u001b[0m: No module named 'vtkOpenGLKitPython'"
     ]
    }
   ],
   "source": [
    "\n",
    "import numpy as np\n",
    "import pandas as pd\n",
    "import matplotlib.pyplot as plt\n",
    "import matplotlib.patches as mpatches\n",
    "%matplotlib inline\n",
    "\n",
    "import vtk\n",
    "import csv"
   ]
  },
  {
   "cell_type": "code",
   "execution_count": null,
   "metadata": {},
   "outputs": [],
   "source": []
  },
  {
   "cell_type": "code",
   "execution_count": null,
   "metadata": {},
   "outputs": [],
   "source": []
  },
  {
   "cell_type": "code",
   "execution_count": null,
   "metadata": {},
   "outputs": [],
   "source": [
    "def vtkToCSV(fileIn, fileOut):\n",
    "    reader = vtk.vtkGenericDataObjectReader()\n",
    "    reader.SetFileName(fileIn)\n",
    "    reader.Update()\n",
    "\n",
    "    point_obj = reader.GetOutput()\n",
    "    points = point_obj.GetPoints()\n",
    "\n",
    "    table = vtk.vtkDataObjectToTable()\n",
    "    table.SetInputData(point_obj)\n",
    "    table.Update()\n",
    "    table.GetOutput().AddColumn(points.GetData())\n",
    "    table.Update()\n",
    "\n",
    "    writer = vtk.vtkDelimitedTextWriter()\n",
    "    writer.SetInputConnection(table.GetOutputPort())\n",
    "    writer.SetFileName(fileOut)\n",
    "    writer.Update()\n",
    "    writer.Write()"
   ]
  },
  {
   "cell_type": "code",
   "execution_count": null,
   "metadata": {},
   "outputs": [],
   "source": [
    "    general_path =  '/home/granular/LIGGGHTS/ver/post/dump43000.'\n",
    "fileIn = general_path + 'vtk'\n",
    "fileOut  =  general_path + 'csv'\n",
    "\n",
    "r1 = 0.001\n",
    "r2 = 0.006\n",
    "rhoParticle = 2500\n",
    "mass_small = 4.19*(r1**3)*rhoParticle\n",
    "mass_large = 4.19*(r2**3)*rhoParticle\n",
    "mass_large\n",
    "fileIn"
   ]
  },
  {
   "cell_type": "code",
   "execution_count": null,
   "metadata": {},
   "outputs": [],
   "source": []
  },
  {
   "cell_type": "code",
   "execution_count": null,
   "metadata": {},
   "outputs": [],
   "source": [
    "vtkToCSV(fileIn,fileOut)"
   ]
  },
  {
   "cell_type": "code",
   "execution_count": null,
   "metadata": {},
   "outputs": [],
   "source": [
    "d140 = pd.read_csv(fileOut)\n",
    "d140.head()"
   ]
  },
  {
   "cell_type": "code",
   "execution_count": null,
   "metadata": {},
   "outputs": [],
   "source": [
    "plt.figure(figsize=(15,10))"
   ]
  },
  {
   "cell_type": "code",
   "execution_count": null,
   "metadata": {},
   "outputs": [],
   "source": [
    "plt.subplot2grid((1,1), (0,0))\n",
    "d140.radius.value_counts(normalize=True).plot(kind=\"bar\")\n",
    "plt.title(\"Survived\")"
   ]
  },
  {
   "cell_type": "code",
   "execution_count": null,
   "metadata": {},
   "outputs": [],
   "source": [
    "data = d140.rename(columns={'Points:0' : 'x', 'Points:1' : 'y', 'Points:2' : 'z'})"
   ]
  },
  {
   "cell_type": "code",
   "execution_count": null,
   "metadata": {},
   "outputs": [],
   "source": [
    "N = 10\n",
    "height = (data['z'].max()+0.0001)/N\n",
    "breakpoint = []\n",
    "for i in range(0,N):\n",
    "    breakpoint.append(height*(i+1))\n",
    "# print(height)\n",
    "# breakpoint = [height, height*2, height*3, height*4, height*5]\n",
    "breakpoint"
   ]
  },
  {
   "cell_type": "code",
   "execution_count": null,
   "metadata": {},
   "outputs": [],
   "source": [
    "from bisect import bisect\n",
    "\n",
    "def grade(score, breakpoints=breakpoint, marks='abcdefghij'):\n",
    "#         print(score)\n",
    "        i = bisect(breakpoints, score)\n",
    "#         print(marks[i])\n",
    "        return marks[i]"
   ]
  },
  {
   "cell_type": "code",
   "execution_count": null,
   "metadata": {},
   "outputs": [],
   "source": [
    "s = d140[(d140.radius <= 0.006 )]\n",
    "# smaller.head(5)\n",
    "\n",
    "l = d140[(d140.radius >= 0.006 )]\n",
    "l.head(5)\n",
    "\n",
    "smaller = s.rename(columns={'Points:0' : 'x', 'Points:1' : 'y', 'Points:2' : 'z'})\n",
    "larger = l.rename(columns={'Points:0' : 'x', 'Points:1' : 'y', 'Points:2' : 'z'})\n",
    "\n",
    "larger.info()"
   ]
  },
  {
   "cell_type": "code",
   "execution_count": null,
   "metadata": {},
   "outputs": [],
   "source": [
    "a,b,c,d,e, f, g, h, i, j= [], [], [] ,[], [],[], [], [] ,[], []\n",
    "small_lists = [a,b,c,d,e, f, g, h, i, j]\n",
    "marks = 'abcdefghij'\n",
    "for item in [(grade(score),score) for score in smaller.z ]:\n",
    "    l = marks.index(item[0])\n",
    "    small_lists[l].append(item[1])\n",
    "    \n",
    "a,b,c,d,e, f, g, h, i, j= [], [], [] ,[], [],[], [], [] ,[], []\n",
    "large_lists = [a,b,c,d,e, f, g, h, i, j]  \n",
    "for item in [(grade(score),score) for score in larger.z ]:\n",
    "    l = marks.index(item[0])\n",
    "    large_lists[l].append(item[1])\n"
   ]
  },
  {
   "cell_type": "code",
   "execution_count": null,
   "metadata": {},
   "outputs": [],
   "source": [
    "# small_sub = [ len(small_lists[0]),len(small_lists[1]),len(small_lists[2]),len(small_lists[3]),len(small_lists[4]), \n",
    "#             len(small_lists[5]),len(small_lists[6]),len(small_lists[7]),len(small_lists[8]),len(small_lists[9])]\n",
    "small_sub = []\n",
    "large_sub = []\n",
    "for i in range(0,N):\n",
    "    small_sub.append(len(small_lists[i]))\n",
    "    large_sub.append(len(large_lists[i]))\n",
    "\n",
    "counter = [small_sub, large_sub]\n",
    "counter"
   ]
  },
  {
   "cell_type": "code",
   "execution_count": null,
   "metadata": {},
   "outputs": [],
   "source": [
    "ratios = []\n",
    "normalVal = []\n",
    "for i in range(0, N):\n",
    "    ratios.append(((small_sub[i]*mass_small)/(small_sub[i]*mass_small + large_sub[i]*mass_large))/0.5)\n",
    "    normalVal.append(1)\n",
    "ratios\n",
    "    "
   ]
  },
  {
   "cell_type": "markdown",
   "metadata": {},
   "source": []
  },
  {
   "cell_type": "code",
   "execution_count": null,
   "metadata": {},
   "outputs": [],
   "source": [
    "names = ['0.05', '0.15', '0.25', '0.35', '0.45', '0.55', '0.65', '0.75', '0.85', '0.95']\n",
    "\n",
    "fig, ax = plt.subplots()\n",
    "fig.suptitle('Plot vel. = 2 m/s, Particle radius: 3-6mm')\n",
    "ax.scatter( names,ratios, label=\"\", marker='d')\n",
    "ax.plot( names,normalVal, label=\"\", color='g', linestyle='dashed')\n",
    "\n",
    "plt.legend(loc='lower right')\n",
    "plt.ylabel(\"Normalised fine particle mass fraction\")\n",
    "plt.xlabel(\"Normalised axial position (y/h)\")\n",
    "plt.savefig('../../BTP/salma/nishant_data/a-8-f-24.svg', format='svg')\n",
    "plt.show()"
   ]
  },
  {
   "cell_type": "code",
   "execution_count": 79,
   "metadata": {},
   "outputs": [
    {
     "data": {
      "image/png": "[encoded data removed]",
      "text/plain": [
       "<Figure size 432x288 with 1 Axes>"
      ]
     },
     "metadata": {
      "needs_background": "light"
     },
     "output_type": "display_data"
    }
   ],
   "source": [
    "colors = {'small particles':'orange', 'large particles':'red'}         \n",
    "labels = list(colors.keys())\n",
    "handles = [plt.Rectangle((0,0),1,1, color=colors[label]) for label in labels]\n",
    "plt.legend(handles, labels)\n",
    "\n",
    "X = np.arange(10)\n",
    "\n",
    "plt.ylabel('Number of particles')\n",
    "plt.title('Number of partilcles in different section of packed bed')\n",
    "plt.xticks(X, ('0.05', '0.15', '0.25', '0.35', '0.45', '0.55', '0.65', '0.75', '0.85', '0.95'))\n",
    "\n",
    "plt.bar(X + 0.00, counter[0], color = 'y', width = 0.25)\n",
    "plt.bar(X + 0.25, counter[1], color = 'r', width = 0.25)\n",
    "\n",
    "plt.show()"
   ]
  },
  {
   "cell_type": "code",
   "execution_count": 80,
   "metadata": {},
   "outputs": [
    {
     "name": "stdout",
     "output_type": "stream",
     "text": [
      "0.06288600011196453\n",
      "0.08260397129630004\n",
      "0.08946023321361923\n",
      "0.08952070016359372\n",
      "0.09329373833466628\n",
      "0.09382292508998241\n",
      "0.10374037265690308\n",
      "0.10566409782084538\n",
      "0.16327220279146187\n",
      "0.16660293393374298\n"
     ]
    },
    {
     "data": {
      "text/plain": [
       "0.12907475893207895"
      ]
     },
     "execution_count": 80,
     "metadata": {},
     "output_type": "execute_result"
    }
   ],
   "source": [
    "import math\n",
    "def get_si(counter):\n",
    "    p = 0\n",
    "    for i in range(0, len(ratios)):\n",
    "#         print(counter[1][i])\n",
    "        p = p + ((ratios[i]) - 1) ** 2\n",
    "        print(p)\n",
    "    p = p/len(ratios)\n",
    "    return math.sqrt(p)\n",
    "\n",
    "si = get_si(counter)\n",
    "si"
   ]
  },
  {
   "cell_type": "code",
   "execution_count": 81,
   "metadata": {},
   "outputs": [],
   "source": [
    "rat_32_1 = [1.5789473684210527, 0.4, 0.046511627906976744, 0.055248618784530384, 0.5029239766081872, 1.0955165692007798, 1.3879781420765027, 1.6444444444444444, 1.9382239382239381, 2.0]\n",
    "rat_32_2 = [1.606060606060606,0.5964912280701754,0.0425531914893617,0.010968921389396709,0.17142857142857143,0.8594059405940595,1.5488721804511276,1.9094339622641507,1.9694656488549618,2.0]\n",
    "rat_35_1 = [1.4307116104868915, 0.5566218809980806, 0.072992700729927, 0.015748031496062992, 0.19130434782608693, 0.9861386138613862, 1.5773584905660376, 1.8780952380952383, 2.0, 2.0]\n",
    "rat_35_2 = [1.2481203007518797, 0.47780126849894294, 0.0966542750929368, 0.043392504930966476, 0.40625, 1.0495049504950498, 1.2822429906542057, 1.752895752895753, 2.0, 2.0]\n",
    "rat_3_1 = [1.594541910331384, 0.3582089552238806, 0.038528896672504385, 0.03125, 0.4888888888888889, 1.1496062992125984, 1.4142581888246628, 1.7566539923954372, 1.9375, 1.9255813953488372]\n",
    "rat_3_2 = [1.758490566037736, 0.8637236084452976, 0.07665505226480836, 0.0, 0.1705989110707804, 0.9421487603305786, 1.265774378585086, 1.6569200779727093, 1.9080459770114941, 2.0]\n",
    "rat_4 = [0.6337760910815938, 0.5508317929759705, 0.11406844106463879, 0.04735883424408015, 0.41467889908256883, 1.1719038817005545, 1.8850987432675044, 2.0, 2.0, 2.0]\n",
    "rat_45 = [0.5777777777777778, 0.27360308285163776, 0.061538461538461535, 0.05273833671399595, 0.3283582089552239, 1.1059730250481694, 1.8467432950191571, 2.0, 2.0, 2.0]\n",
    "rat_48 = [0.0535279805352798, 0.027397260273972605, 0.0, 0.04143126177024482, 0.4852071005917159, 1.493482309124767, 2.0, 2.0, 2.0, 2.0]\n",
    "\n",
    "rec_14 = [1.0233393177737882, 0.0392156862745098, 0.03717472118959107, 0.1037037037037037, 0.5854616895874263, 1.3320079522862822, 1.5581854043392505, 1.8128654970760234, 1.7602996254681649, 1.908831908831909]\n",
    "rec_18 = [0.6817447495961227, 0.0, 0.048109965635738834, 0.41391304347826086, 1.1028037383177571, 1.4619469026548673, 1.5485008818342152, 1.800711743772242, 1.6988235294117646, 1.5061728395061726]\n",
    "rec_2 = [0.6334519572953737, 0.014598540145985401, 0.15151515151515155, 0.5151515151515151, 1.060665362035225, 1.3295238095238096, 1.4744525547445255, 1.6155268022181146, 1.5644283121597096, 1.811764705882353]\n",
    "rec_25 = [0.15242494226327943, 0.01697792869269949, 0.15151515151515155, 0.4496124031007752, 1.0130841121495326, 1.3235294117647058, 1.6119402985074627, 1.8208955223880599, 1.9699248120300752, 2.0]\n",
    "f_10 =   [1.2473363264759099, 0.9566543790517352, 0.9981963411491884, 1.0224980605120249, 1.086973229153324, 1.1534563146158525, 1.1284087211194274, 0.8902109248242295, 0.4804469273743017, 0.16517225106182162]\n",
    "f_12 =   [1.5124497425407353,1.2715520269795548,1.1249746809803527,1.0271522326598894,0.9584086799276674,0.855268138801262,0.914867617107943,0.8416596104995767,0.5977357295542712,0.5230769230769231]\n",
    "f_14 =   [1.6094032549728752,1.290792291220557,1.0551431601272534,0.9825033647375505,0.9652359681491554,0.9632975719932241,0.907674434497369,0.8456507981154633,0.6054292002934704, 0.5135483870967743]\n",
    "f_18 = [1.4228456913827656,1.1599416626154595,1.1121819856849267,1.0395998332638599,0.9283196239717979,0.8901541452576032,0.8677019854531158,0.9146507788385616,0.8693565976008726,0.6047638272103352]\n",
    "f_24 = [1.2507708119218912,1.1404206935758954,1.0828025477707008,0.9922239502332816,0.9385749385749386,0.9769959404600812,0.9004136175628381,0.9561397085743575,0.7599831152384973,0.9422875131164744]\n",
    "si_f_12 = np.array([0.3301653989451871, 0.3085716907449433,0.2977421643194421, 0.20827950740706375, 0.12907475893207895])"
   ]
  },
  {
   "cell_type": "code",
   "execution_count": 84,
   "metadata": {},
   "outputs": [
    {
     "data": {
      "image/png": "[encoded data removed]",
      "text/plain": [
       "<Figure size 432x288 with 1 Axes>"
      ]
     },
     "metadata": {
      "needs_background": "light"
     },
     "output_type": "display_data"
    }
   ],
   "source": [
    "names = ['0.05', '0.15', '0.25', '0.35', '0.45', '0.55', '0.65', '0.75', '0.85', '0.95']\n",
    "\n",
    "fig, ax = plt.subplots()\n",
    "fig.suptitle('Plot At Multiple Frequencies (Vibrating Bed)')\n",
    "ax.scatter(f_10, names, label=\"f = 10 Hz\", marker='o')\n",
    "# ax.scatter(names, rec_18, label=\"u = 1.8 m/s\", marker='d')\n",
    "# ax.scatter(names, rec_2, label=\"u = 2 m/s\", marker='o')\n",
    "ax.scatter( f_12, names,label=\"f = 12 Hz\", marker='>')\n",
    "# ax.scatter(names, rat_45, label=\"u = 4.5 m/s\", marker='x')\n",
    "# ax.scatter(names, rat_48, label=\"u = 4.8 m/s\", marker='h')\n",
    "ax.scatter( f_14, names,label=\"f = 14 Hz\", marker='d')\n",
    "ax.scatter( f_18, names,label=\"f = 18 Hz\", marker='x')\n",
    "ax.scatter( f_24, names,label=\"f = 24 Hz\", marker='h')\n",
    "\n",
    "ax.plot( normalVal,names, label=\"Fully mixed\", color='grey', linestyle='dashed')\n",
    "\n",
    "plt.legend(loc='lower left')\n",
    "plt.xlabel(\"Normalised fine particle mass fraction\")\n",
    "plt.ylabel(\"Normalised axial position (y/h)\")\n",
    "# plt.savefig('../graphs/RecU-1425_3_6_velocity_compare.svg', format='svg')\n",
    "plt.savefig('../../BTP/salma/nishant_data/multiple-frequency.svg', format='svg')\n",
    "plt.show()"
   ]
  },
  {
   "cell_type": "markdown",
   "metadata": {},
   "source": []
  },
  {
   "cell_type": "code",
   "execution_count": 51,
   "metadata": {},
   "outputs": [
    {
     "data": {
      "image/png": "[encoded data removed]",
      "text/plain": [
       "<Figure size 432x288 with 1 Axes>"
      ]
     },
     "metadata": {
      "needs_background": "light"
     },
     "output_type": "display_data"
    }
   ],
   "source": [
    "# vibst = ['3.94784176', '5.68489213', '7.73776985', '12.7910073', '22.7395685']\n",
    "vibst = np.array([3.94, 5.68, 7.73, 12.79, 22.73])\n",
    "fig, ax = plt.subplots()\n",
    "fig.suptitle('Plot of Segregation Index v/s Vibration Strength')\n",
    "ax.scatter(vibst, si_f_12, label=\"A = 8mm\", marker='d')\n",
    "normalVal = [1, 1, 1, 1, 1]\n",
    "ax.plot(vibst, normalVal, label=\"Fully mixed\", color='grey', linestyle='dashed')\n",
    "\n",
    "plt.legend(loc='lower right')\n",
    "plt.ylabel(\"Segregation Index\")\n",
    "plt.xlabel(\"Vibration Strength \")\n",
    "# plt.savefig('../graphs/RecU-1425_3_6_velocity_compare.svg', format='svg')\n",
    "# plt.savefig('../../BTP/salma/nishant_data/si-vibration-strength.svg', format='svg')\n",
    "plt.show()"
   ]
  },
  {
   "cell_type": "code",
   "execution_count": null,
   "metadata": {},
   "outputs": [],
   "source": []
  }
 ],
 "metadata": {
  "kernelspec": {
   "display_name": "Python 3",
   "language": "python",
   "name": "python3"
  },
  "language_info": {
   "codemirror_mode": {
    "name": "ipython",
    "version": 3
   },
   "file_extension": ".py",
   "mimetype": "text/x-python",
   "name": "python",
   "nbconvert_exporter": "python",
   "pygments_lexer": "ipython3",
   "version": "3.7.3"
  }
 },
 "nbformat": 4,
 "nbformat_minor": 2
}
