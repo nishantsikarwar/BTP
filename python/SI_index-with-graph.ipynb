{
 "cells": [
  {
   "cell_type": "code",
   "execution_count": 5,
   "metadata": {},
   "outputs": [
    {
     "ename": "ModuleNotFoundError",
     "evalue": "No module named 'vtkOpenGLKitPython'",
     "output_type": "error",
     "traceback": [
      "\u001b[0;31m---------------------------------------------------------------------------\u001b[0m",
      "\u001b[0;31mImportError\u001b[0m                               Traceback (most recent call last)",
      "\u001b[0;32m/home/granular/snap/jupyter/common/lib/python3.7/site-packages/vtk/vtkOpenGLKit.py\u001b[0m in \u001b[0;36m<module>\u001b[0;34m\u001b[0m\n\u001b[1;32m      4\u001b[0m     \u001b[0;31m# use relative import for installed modules\u001b[0m\u001b[0;34m\u001b[0m\u001b[0;34m\u001b[0m\u001b[0;34m\u001b[0m\u001b[0m\n\u001b[0;32m----> 5\u001b[0;31m     \u001b[0;32mfrom\u001b[0m \u001b[0;34m.\u001b[0m\u001b[0mvtkOpenGLKitPython\u001b[0m \u001b[0;32mimport\u001b[0m \u001b[0;34m*\u001b[0m\u001b[0;34m\u001b[0m\u001b[0;34m\u001b[0m\u001b[0m\n\u001b[0m\u001b[1;32m      6\u001b[0m \u001b[0;32mexcept\u001b[0m \u001b[0mImportError\u001b[0m\u001b[0;34m:\u001b[0m\u001b[0;34m\u001b[0m\u001b[0;34m\u001b[0m\u001b[0m\n",
      "\u001b[0;31mImportError\u001b[0m: libSM.so.6: cannot open shared object file: No such file or directory",
      "\nDuring handling of the above exception, another exception occurred:\n",
      "\u001b[0;31mModuleNotFoundError\u001b[0m                       Traceback (most recent call last)",
      "\u001b[0;32m<ipython-input-5-7243af7c841f>\u001b[0m in \u001b[0;36m<module>\u001b[0;34m\u001b[0m\n\u001b[1;32m      6\u001b[0m \u001b[0;31m# %matplotlib inline\u001b[0m\u001b[0;34m\u001b[0m\u001b[0;34m\u001b[0m\u001b[0;34m\u001b[0m\u001b[0m\n\u001b[1;32m      7\u001b[0m \u001b[0;34m\u001b[0m\u001b[0m\n\u001b[0;32m----> 8\u001b[0;31m \u001b[0;32mimport\u001b[0m \u001b[0mvtk\u001b[0m\u001b[0;34m\u001b[0m\u001b[0;34m\u001b[0m\u001b[0m\n\u001b[0m\u001b[1;32m      9\u001b[0m \u001b[0;32mimport\u001b[0m \u001b[0mcsv\u001b[0m\u001b[0;34m\u001b[0m\u001b[0;34m\u001b[0m\u001b[0m\n",
      "\u001b[0;32m/home/granular/snap/jupyter/common/lib/python3.7/site-packages/vtk/__init__.py\u001b[0m in \u001b[0;36m<module>\u001b[0;34m\u001b[0m\n\u001b[1;32m     10\u001b[0m \u001b[0;32mfrom\u001b[0m \u001b[0;34m.\u001b[0m\u001b[0mvtkRenderingKit\u001b[0m \u001b[0;32mimport\u001b[0m \u001b[0;34m*\u001b[0m\u001b[0;34m\u001b[0m\u001b[0;34m\u001b[0m\u001b[0m\n\u001b[1;32m     11\u001b[0m \u001b[0;32mfrom\u001b[0m \u001b[0;34m.\u001b[0m\u001b[0mvtkIOKit\u001b[0m \u001b[0;32mimport\u001b[0m \u001b[0;34m*\u001b[0m\u001b[0;34m\u001b[0m\u001b[0;34m\u001b[0m\u001b[0m\n\u001b[0;32m---> 12\u001b[0;31m \u001b[0;32mfrom\u001b[0m \u001b[0;34m.\u001b[0m\u001b[0mvtkOpenGLKit\u001b[0m \u001b[0;32mimport\u001b[0m \u001b[0;34m*\u001b[0m\u001b[0;34m\u001b[0m\u001b[0;34m\u001b[0m\u001b[0m\n\u001b[0m\u001b[1;32m     13\u001b[0m \u001b[0;32mfrom\u001b[0m \u001b[0;34m.\u001b[0m\u001b[0mvtkParallelKit\u001b[0m \u001b[0;32mimport\u001b[0m \u001b[0;34m*\u001b[0m\u001b[0;34m\u001b[0m\u001b[0;34m\u001b[0m\u001b[0m\n\u001b[1;32m     14\u001b[0m \u001b[0;32mfrom\u001b[0m \u001b[0;34m.\u001b[0m\u001b[0mvtkWrappingKit\u001b[0m \u001b[0;32mimport\u001b[0m \u001b[0;34m*\u001b[0m\u001b[0;34m\u001b[0m\u001b[0;34m\u001b[0m\u001b[0m\n",
      "\u001b[0;32m/home/granular/snap/jupyter/common/lib/python3.7/site-packages/vtk/vtkOpenGLKit.py\u001b[0m in \u001b[0;36m<module>\u001b[0;34m\u001b[0m\n\u001b[1;32m      7\u001b[0m     \u001b[0;31m# during build and testing, the modules will be elsewhere,\u001b[0m\u001b[0;34m\u001b[0m\u001b[0;34m\u001b[0m\u001b[0;34m\u001b[0m\u001b[0m\n\u001b[1;32m      8\u001b[0m     \u001b[0;31m# e.g. in lib directory or Release/Debug config directories\u001b[0m\u001b[0;34m\u001b[0m\u001b[0;34m\u001b[0m\u001b[0;34m\u001b[0m\u001b[0m\n\u001b[0;32m----> 9\u001b[0;31m     \u001b[0;32mfrom\u001b[0m \u001b[0mvtkOpenGLKitPython\u001b[0m \u001b[0;32mimport\u001b[0m \u001b[0;34m*\u001b[0m\u001b[0;34m\u001b[0m\u001b[0;34m\u001b[0m\u001b[0m\n\u001b[0m",
      "\u001b[0;31mModuleNotFoundError\u001b[0m: No module named 'vtkOpenGLKitPython'"
     ]
    }
   ],
   "source": [
    "\n",
    "import numpy as np\n",
    "import pandas as pd\n",
    "import matplotlib.pyplot as plt\n",
    "# import matplotlib.patches as mpatches\n",
    "# %matplotlib inline\n",
    "\n",
    "import vtk\n",
    "import csv"
   ]
  },
  {
   "cell_type": "code",
   "execution_count": 4,
   "metadata": {},
   "outputs": [],
   "source": [
    "def vtkToCSV(fileIn, fileOut):\n",
    "    reader = vtk.vtkGenericDataObjectReader()\n",
    "    reader.SetFileName(fileIn)\n",
    "    reader.Update()\n",
    "\n",
    "    point_obj = reader.GetOutput()\n",
    "    points = point_obj.GetPoints()\n",
    "\n",
    "    table = vtk.vtkDataObjectToTable()\n",
    "    table.SetInputData(point_obj)\n",
    "    table.Update()\n",
    "    table.GetOutput().AddColumn(points.GetData())\n",
    "    table.Update()\n",
    "\n",
    "    writer = vtk.vtkDelimitedTextWriter()\n",
    "    writer.SetInputConnection(table.GetOutputPort())\n",
    "    writer.SetFileName(fileOut)\n",
    "    writer.Update()\n",
    "    writer.Write()"
   ]
  },
  {
   "cell_type": "code",
   "execution_count": 8,
   "metadata": {},
   "outputs": [
    {
     "name": "stdout",
     "output_type": "stream",
     "text": [
      "0.0022626 0.000282825\n"
     ]
    }
   ],
   "source": [
    "    general_path = '../../BTP/salma/data1/post/dump_liggghts_run.30200000.'\n",
    "fileIn = general_path + 'vtk'\n",
    "fileOut  =  general_path + 'csv'\n",
    "\n",
    "r1 = 0.003\n",
    "r2 = 0.006\n",
    "rhoParticle = 2500\n",
    "mass_small = 4.19*(r1**3)*rhoParticle\n",
    "mass_large = 4.19*(r2**3)*rhoParticle\n",
    "print(mass_large, mass_small)\n",
    "# fileIn"
   ]
  },
  {
   "cell_type": "code",
   "execution_count": 9,
   "metadata": {},
   "outputs": [],
   "source": [
    "vtkToCSV(fileIn,fileOut)"
   ]
  },
  {
   "cell_type": "code",
   "execution_count": 10,
   "metadata": {},
   "outputs": [
    {
     "data": {
      "text/html": [
       "<div>\n",
       "<style scoped>\n",
       "    .dataframe tbody tr th:only-of-type {\n",
       "        vertical-align: middle;\n",
       "    }\n",
       "\n",
       "    .dataframe tbody tr th {\n",
       "        vertical-align: top;\n",
       "    }\n",
       "\n",
       "    .dataframe thead th {\n",
       "        text-align: right;\n",
       "    }\n",
       "</style>\n",
       "<table border=\"1\" class=\"dataframe\">\n",
       "  <thead>\n",
       "    <tr style=\"text-align: right;\">\n",
       "      <th></th>\n",
       "      <th>id</th>\n",
       "      <th>type</th>\n",
       "      <th>mass</th>\n",
       "      <th>v:0</th>\n",
       "      <th>v:1</th>\n",
       "      <th>v:2</th>\n",
       "      <th>f:0</th>\n",
       "      <th>f:1</th>\n",
       "      <th>f:2</th>\n",
       "      <th>radius</th>\n",
       "      <th>f_dragforce[1-3]:0</th>\n",
       "      <th>f_dragforce[1-3]:1</th>\n",
       "      <th>f_dragforce[1-3]:2</th>\n",
       "      <th>Points:0</th>\n",
       "      <th>Points:1</th>\n",
       "      <th>Points:2</th>\n",
       "    </tr>\n",
       "  </thead>\n",
       "  <tbody>\n",
       "    <tr>\n",
       "      <th>0</th>\n",
       "      <td>562</td>\n",
       "      <td>1</td>\n",
       "      <td>0.000283</td>\n",
       "      <td>-6.776050e-08</td>\n",
       "      <td>1.272280e-07</td>\n",
       "      <td>3.712600e-08</td>\n",
       "      <td>-2.693990e-08</td>\n",
       "      <td>4.662070e-09</td>\n",
       "      <td>-1.602560e-08</td>\n",
       "      <td>0.003</td>\n",
       "      <td>8.583450e-08</td>\n",
       "      <td>-2.499710e-08</td>\n",
       "      <td>2.838490e-08</td>\n",
       "      <td>-0.007532</td>\n",
       "      <td>-0.046391</td>\n",
       "      <td>0.002940</td>\n",
       "    </tr>\n",
       "    <tr>\n",
       "      <th>1</th>\n",
       "      <td>189</td>\n",
       "      <td>1</td>\n",
       "      <td>0.000283</td>\n",
       "      <td>-5.262230e-08</td>\n",
       "      <td>4.747550e-08</td>\n",
       "      <td>2.806980e-08</td>\n",
       "      <td>-1.653650e-08</td>\n",
       "      <td>-1.024610e-09</td>\n",
       "      <td>4.757220e-09</td>\n",
       "      <td>0.003</td>\n",
       "      <td>6.537130e-08</td>\n",
       "      <td>-2.031310e-08</td>\n",
       "      <td>2.851550e-08</td>\n",
       "      <td>-0.001582</td>\n",
       "      <td>-0.046978</td>\n",
       "      <td>0.002993</td>\n",
       "    </tr>\n",
       "    <tr>\n",
       "      <th>2</th>\n",
       "      <td>1967</td>\n",
       "      <td>1</td>\n",
       "      <td>0.000283</td>\n",
       "      <td>-1.040550e-07</td>\n",
       "      <td>-6.284320e-08</td>\n",
       "      <td>8.305100e-08</td>\n",
       "      <td>2.918330e-09</td>\n",
       "      <td>-5.349120e-09</td>\n",
       "      <td>-3.031390e-09</td>\n",
       "      <td>0.003</td>\n",
       "      <td>-6.475190e-08</td>\n",
       "      <td>-1.810890e-07</td>\n",
       "      <td>6.786660e-09</td>\n",
       "      <td>-0.024623</td>\n",
       "      <td>-0.040063</td>\n",
       "      <td>0.002945</td>\n",
       "    </tr>\n",
       "    <tr>\n",
       "      <th>3</th>\n",
       "      <td>2169</td>\n",
       "      <td>1</td>\n",
       "      <td>0.000283</td>\n",
       "      <td>-6.013360e-05</td>\n",
       "      <td>4.895290e-05</td>\n",
       "      <td>9.412440e-09</td>\n",
       "      <td>4.822030e-08</td>\n",
       "      <td>-3.990910e-08</td>\n",
       "      <td>-3.633470e-09</td>\n",
       "      <td>0.003</td>\n",
       "      <td>4.580430e-08</td>\n",
       "      <td>-4.707850e-08</td>\n",
       "      <td>1.253730e-08</td>\n",
       "      <td>-0.019156</td>\n",
       "      <td>-0.042773</td>\n",
       "      <td>0.002995</td>\n",
       "    </tr>\n",
       "    <tr>\n",
       "      <th>4</th>\n",
       "      <td>1204</td>\n",
       "      <td>1</td>\n",
       "      <td>0.000283</td>\n",
       "      <td>-8.907060e-08</td>\n",
       "      <td>8.304710e-08</td>\n",
       "      <td>3.905960e-08</td>\n",
       "      <td>-2.533390e-08</td>\n",
       "      <td>-4.966560e-10</td>\n",
       "      <td>7.281270e-09</td>\n",
       "      <td>0.003</td>\n",
       "      <td>7.903060e-08</td>\n",
       "      <td>-4.293410e-09</td>\n",
       "      <td>1.224290e-08</td>\n",
       "      <td>-0.013579</td>\n",
       "      <td>-0.045019</td>\n",
       "      <td>0.002971</td>\n",
       "    </tr>\n",
       "  </tbody>\n",
       "</table>\n",
       "</div>"
      ],
      "text/plain": [
       "     id  type      mass           v:0           v:1           v:2  \\\n",
       "0   562     1  0.000283 -6.776050e-08  1.272280e-07  3.712600e-08   \n",
       "1   189     1  0.000283 -5.262230e-08  4.747550e-08  2.806980e-08   \n",
       "2  1967     1  0.000283 -1.040550e-07 -6.284320e-08  8.305100e-08   \n",
       "3  2169     1  0.000283 -6.013360e-05  4.895290e-05  9.412440e-09   \n",
       "4  1204     1  0.000283 -8.907060e-08  8.304710e-08  3.905960e-08   \n",
       "\n",
       "            f:0           f:1           f:2  radius  f_dragforce[1-3]:0  \\\n",
       "0 -2.693990e-08  4.662070e-09 -1.602560e-08   0.003        8.583450e-08   \n",
       "1 -1.653650e-08 -1.024610e-09  4.757220e-09   0.003        6.537130e-08   \n",
       "2  2.918330e-09 -5.349120e-09 -3.031390e-09   0.003       -6.475190e-08   \n",
       "3  4.822030e-08 -3.990910e-08 -3.633470e-09   0.003        4.580430e-08   \n",
       "4 -2.533390e-08 -4.966560e-10  7.281270e-09   0.003        7.903060e-08   \n",
       "\n",
       "   f_dragforce[1-3]:1  f_dragforce[1-3]:2  Points:0  Points:1  Points:2  \n",
       "0       -2.499710e-08        2.838490e-08 -0.007532 -0.046391  0.002940  \n",
       "1       -2.031310e-08        2.851550e-08 -0.001582 -0.046978  0.002993  \n",
       "2       -1.810890e-07        6.786660e-09 -0.024623 -0.040063  0.002945  \n",
       "3       -4.707850e-08        1.253730e-08 -0.019156 -0.042773  0.002995  \n",
       "4       -4.293410e-09        1.224290e-08 -0.013579 -0.045019  0.002971  "
      ]
     },
     "execution_count": 10,
     "metadata": {},
     "output_type": "execute_result"
    }
   ],
   "source": [
    "d140 = pd.read_csv(fileOut)\n",
    "d140.head()"
   ]
  },
  {
   "cell_type": "code",
   "execution_count": 11,
   "metadata": {},
   "outputs": [
    {
     "data": {
      "text/plain": [
       "<Figure size 1080x720 with 0 Axes>"
      ]
     },
     "execution_count": 11,
     "metadata": {},
     "output_type": "execute_result"
    },
    {
     "data": {
      "text/plain": [
       "<Figure size 1080x720 with 0 Axes>"
      ]
     },
     "metadata": {},
     "output_type": "display_data"
    }
   ],
   "source": [
    "plt.figure(figsize=(15,10))"
   ]
  },
  {
   "cell_type": "code",
   "execution_count": 12,
   "metadata": {},
   "outputs": [
    {
     "data": {
      "text/plain": [
       "Text(0.5, 1.0, 'Survived')"
      ]
     },
     "execution_count": 12,
     "metadata": {},
     "output_type": "execute_result"
    },
    {
     "data": {
      "image/png": "[encoded data removed]",
      "text/plain": [
       "<Figure size 432x288 with 1 Axes>"
      ]
     },
     "metadata": {
      "needs_background": "light"
     },
     "output_type": "display_data"
    }
   ],
   "source": [
    "plt.subplot2grid((1,1), (0,0))\n",
    "d140.mass.value_counts(normalize=True).plot(kind=\"bar\")\n",
    "plt.title(\"Survived\")"
   ]
  },
  {
   "cell_type": "code",
   "execution_count": 13,
   "metadata": {},
   "outputs": [],
   "source": [
    "data = d140.rename(columns={'Points:0' : 'x', 'Points:1' : 'y', 'Points:2' : 'z'})"
   ]
  },
  {
   "cell_type": "code",
   "execution_count": 14,
   "metadata": {},
   "outputs": [
    {
     "data": {
      "text/plain": [
       "[0.012892,\n",
       " 0.025784,\n",
       " 0.038676,\n",
       " 0.051568,\n",
       " 0.06446,\n",
       " 0.077352,\n",
       " 0.090244,\n",
       " 0.103136,\n",
       " 0.116028,\n",
       " 0.12892]"
      ]
     },
     "execution_count": 14,
     "metadata": {},
     "output_type": "execute_result"
    }
   ],
   "source": [
    "N = 10\n",
    "height = (data['z'].max()+0.0001)/N\n",
    "breakpoint = []\n",
    "for i in range(0,N):\n",
    "    breakpoint.append(height*(i+1))\n",
    "# print(height)\n",
    "# breakpoint = [height, height*2, height*3, height*4, height*5]\n",
    "breakpoint"
   ]
  },
  {
   "cell_type": "code",
   "execution_count": 15,
   "metadata": {},
   "outputs": [],
   "source": [
    "from bisect import bisect\n",
    "\n",
    "def grade(score, breakpoints=breakpoint, marks='abcdefghij'):\n",
    "#         print(score)\n",
    "        i = bisect(breakpoints, score)\n",
    "#         print(marks[i])\n",
    "        return marks[i]"
   ]
  },
  {
   "cell_type": "code",
   "execution_count": 16,
   "metadata": {},
   "outputs": [
    {
     "name": "stdout",
     "output_type": "stream",
     "text": [
      "<class 'pandas.core.frame.DataFrame'>\n",
      "Int64Index: 2480 entries, 0 to 2789\n",
      "Data columns (total 16 columns):\n",
      " #   Column              Non-Null Count  Dtype  \n",
      "---  ------              --------------  -----  \n",
      " 0   id                  2480 non-null   int64  \n",
      " 1   type                2480 non-null   int64  \n",
      " 2   mass                2480 non-null   float64\n",
      " 3   v:0                 2480 non-null   float64\n",
      " 4   v:1                 2480 non-null   float64\n",
      " 5   v:2                 2480 non-null   float64\n",
      " 6   f:0                 2480 non-null   float64\n",
      " 7   f:1                 2480 non-null   float64\n",
      " 8   f:2                 2480 non-null   float64\n",
      " 9   radius              2480 non-null   float64\n",
      " 10  f_dragforce[1-3]:0  2480 non-null   float64\n",
      " 11  f_dragforce[1-3]:1  2480 non-null   float64\n",
      " 12  f_dragforce[1-3]:2  2480 non-null   float64\n",
      " 13  x                   2480 non-null   float64\n",
      " 14  y                   2480 non-null   float64\n",
      " 15  z                   2480 non-null   float64\n",
      "dtypes: float64(14), int64(2)\n",
      "memory usage: 329.4 KB\n"
     ]
    }
   ],
   "source": [
    "s = d140[(d140.mass <= .001 )]\n",
    "# smaller.head(5)\n",
    "\n",
    "l = d140[(d140.mass >= .001 )]\n",
    "l.head(5)\n",
    "\n",
    "smaller = s.rename(columns={'Points:0' : 'x', 'Points:1' : 'y', 'Points:2' : 'z'})\n",
    "larger = l.rename(columns={'Points:0' : 'x', 'Points:1' : 'y', 'Points:2' : 'z'})\n",
    "\n",
    "smaller.info()"
   ]
  },
  {
   "cell_type": "code",
   "execution_count": 17,
   "metadata": {},
   "outputs": [],
   "source": [
    "a,b,c,d,e, f, g, h, i, j= [], [], [] ,[], [],[], [], [] ,[], []\n",
    "small_lists = [a,b,c,d,e, f, g, h, i, j]\n",
    "marks = 'abcdefghij'\n",
    "for item in [(grade(score),score) for score in smaller.z ]:\n",
    "    l = marks.index(item[0])\n",
    "    small_lists[l].append(item[1])\n",
    "    \n",
    "a,b,c,d,e, f, g, h, i, j= [], [], [] ,[], [],[], [], [] ,[], []\n",
    "large_lists = [a,b,c,d,e, f, g, h, i, j]  \n",
    "for item in [(grade(score),score) for score in larger.z ]:\n",
    "    l = marks.index(item[0])\n",
    "    large_lists[l].append(item[1])\n"
   ]
  },
  {
   "cell_type": "code",
   "execution_count": 18,
   "metadata": {},
   "outputs": [
    {
     "data": {
      "text/plain": [
       "[[440, 115, 8, 9, 162, 252, 368, 465, 493, 168],\n",
       " [9, 56, 71, 66, 45, 32, 18, 10, 3, 0]]"
      ]
     },
     "execution_count": 18,
     "metadata": {},
     "output_type": "execute_result"
    }
   ],
   "source": [
    "# small_sub = [ len(small_lists[0]),len(small_lists[1]),len(small_lists[2]),len(small_lists[3]),len(small_lists[4]), \n",
    "#             len(small_lists[5]),len(small_lists[6]),len(small_lists[7]),len(small_lists[8]),len(small_lists[9])]\n",
    "small_sub = []\n",
    "large_sub = []\n",
    "for i in range(0,N):\n",
    "    small_sub.append(len(small_lists[i]))\n",
    "    large_sub.append(len(large_lists[i]))\n",
    "\n",
    "counter = [small_sub, large_sub]\n",
    "counter"
   ]
  },
  {
   "cell_type": "code",
   "execution_count": 19,
   "metadata": {
    "scrolled": true
   },
   "outputs": [
    {
     "data": {
      "text/plain": [
       "[1.71875,\n",
       " 0.40852575488454707,\n",
       " 0.027777777777777776,\n",
       " 0.0335195530726257,\n",
       " 0.6206896551724138,\n",
       " 0.9921259842519685,\n",
       " 1.4375,\n",
       " 1.7064220183486238,\n",
       " 1.9071566731141198,\n",
       " 2.0]"
      ]
     },
     "execution_count": 19,
     "metadata": {},
     "output_type": "execute_result"
    }
   ],
   "source": [
    "ratios = []\n",
    "normalVal = []\n",
    "for i in range(0, N):\n",
    "    ratios.append(((small_sub[i]*mass_small)/(small_sub[i]*mass_small + large_sub[i]*mass_large))/0.5)\n",
    "    normalVal.append(1)\n",
    "ratios\n",
    "    "
   ]
  },
  {
   "cell_type": "code",
   "execution_count": 20,
   "metadata": {},
   "outputs": [
    {
     "data": {
      "image/png": "[encoded data removed]",
      "text/plain": [
       "<Figure size 432x288 with 1 Axes>"
      ]
     },
     "metadata": {
      "needs_background": "light"
     },
     "output_type": "display_data"
    }
   ],
   "source": [
    "names = ['0.05', '0.15', '0.25', '0.35', '0.45', '0.55', '0.65', '0.75', '0.85', '0.95']\n",
    "\n",
    "fig, ax = plt.subplots()\n",
    "# fig.suptitle('Plot vel. = 3 m/s, Particle radius: 3-663mm, T = 10sec')\n",
    "ax.scatter(names, ratios, label=\"Initial state\", marker='d')\n",
    "ax.plot(names, normalVal, label=\"Fully Mixed\", color='g', linestyle='dashed')\n",
    "\n",
    "plt.legend(loc='upper right')\n",
    "plt.ylabel(\"Normalised fine particle mass fraction\")\n",
    "plt.xlabel(\"Normalised axial position (y/h)\")\n",
    "# plt.savefig('../graphs/main/Initial.svg', format='svg')\n",
    "plt.show()\n",
    "# print(ratios)"
   ]
  },
  {
   "cell_type": "code",
   "execution_count": null,
   "metadata": {},
   "outputs": [],
   "source": []
  },
  {
   "cell_type": "code",
   "execution_count": 21,
   "metadata": {},
   "outputs": [
    {
     "data": {
      "image/png": "[encoded data removed]",
      "text/plain": [
       "<Figure size 432x288 with 1 Axes>"
      ]
     },
     "metadata": {
      "needs_background": "light"
     },
     "output_type": "display_data"
    }
   ],
   "source": [
    "colors = {'small particles':'orange', 'large particles':'red'}         \n",
    "labels = list(colors.keys())\n",
    "handles = [plt.Rectangle((0,0),1,1, color=colors[label]) for label in labels]\n",
    "plt.legend(handles, labels)\n",
    "\n",
    "X = np.arange(10)\n",
    "\n",
    "plt.ylabel('Number of particles')\n",
    "plt.title('Number of partilcles in different section of packed bed')\n",
    "plt.xticks(X, ('0.05', '0.15', '0.25', '0.35', '0.45', '0.55', '0.65', '0.75', '0.85', '0.95'))\n",
    "\n",
    "plt.bar(X + 0.00, counter[0], color = 'y', width = 0.25)\n",
    "plt.bar(X + 0.25, counter[1], color = 'r', width = 0.25)\n",
    "\n",
    "plt.show()"
   ]
  },
  {
   "cell_type": "code",
   "execution_count": 22,
   "metadata": {},
   "outputs": [
    {
     "data": {
      "text/plain": [
       "0.7350546737631829"
      ]
     },
     "execution_count": 22,
     "metadata": {},
     "output_type": "execute_result"
    }
   ],
   "source": [
    "# pi = []\n",
    "import math\n",
    "def get_si(counter):\n",
    "    p = 0\n",
    "    for i in range(0, len(counter)):\n",
    "#         print(counter[1][i])\n",
    "        p = p + ((counter[i]) - 1) ** 2\n",
    "#         print(p)\n",
    "    p = p/len(counter)\n",
    "#     pi.append(math.sqrt(p))\n",
    "    return math.sqrt(p)\n",
    "\n",
    "si = get_si(ratios)\n",
    "# print(pi)\n",
    "si\n"
   ]
  },
  {
   "cell_type": "code",
   "execution_count": 23,
   "metadata": {},
   "outputs": [],
   "source": [
    "rat_32_1 = [1.5789473684210527, 0.4, 0.046511627906976744, 0.055248618784530384, 0.5029239766081872, 1.0955165692007798, 1.3879781420765027, 1.6444444444444444, 1.9382239382239381, 2.0]\n",
    "rat_32_2 = [1.606060606060606,0.5964912280701754,0.0425531914893617,0.010968921389396709,0.17142857142857143,0.8594059405940595,1.5488721804511276,1.9094339622641507,1.9694656488549618,2.0]\n",
    "rat_35_1 = [1.4307116104868915, 0.5566218809980806, 0.072992700729927, 0.015748031496062992, 0.19130434782608693, 0.9861386138613862, 1.5773584905660376, 1.8780952380952383, 2.0, 2.0]\n",
    "rat_35_2 = [1.2481203007518797, 0.47780126849894294, 0.0966542750929368, 0.043392504930966476, 0.40625, 1.0495049504950498, 1.2822429906542057, 1.752895752895753, 2.0, 2.0]\n",
    "rat_3_1 = [1.594541910331384, 0.3582089552238806, 0.038528896672504385, 0.03125, 0.4888888888888889, 1.1496062992125984, 1.4142581888246628, 1.7566539923954372, 1.9375, 1.9255813953488372]\n",
    "rat_3_2 = [1.758490566037736, 0.8637236084452976, 0.07665505226480836, 0.0, 0.1705989110707804, 0.9421487603305786, 1.265774378585086, 1.6569200779727093, 1.9080459770114941, 2.0]\n",
    "rat_3_t_20 = [1.6569200779727093, 0.4705882352941176, 0.0437956204379562, 0.023166023166023165, 0.41495327102803736, 1.2258064516129032, 1.3172541743970316, 1.6595744680851063, 1.8737672583826428, 2.0]\n",
    "rat_3_t_50 = [1.7042513863216264, 0.6783831282952548, 0.08823529411764705, 0.04081632653061225, 0.48327137546468407, 1.0387596899224807, 1.3069679849340867, 1.5978456014362659, 1.9342915811088295, 1.8840579710144927]\n",
    "rat_4 = [0.6337760910815938, 0.5508317929759705, 0.11406844106463879, 0.04735883424408015, 0.41467889908256883, 1.1719038817005545, 1.8850987432675044, 2.0, 2.0, 2.0]\n",
    "rat_45 = [0.5777777777777778, 0.27360308285163776, 0.061538461538461535, 0.05273833671399595, 0.3283582089552239, 1.1059730250481694, 1.8467432950191571, 2.0, 2.0, 2.0]\n",
    "rat_48 = [0.0535279805352798, 0.027397260273972605, 0.0, 0.04143126177024482, 0.4852071005917159, 1.493482309124767, 2.0, 2.0, 2.0, 2.0]\n",
    "sir = [.773,.72,.72,.943,1.052,1.048,0.98,.983,.934,1.431]\n",
    "rec_14 = [1.0233393177737882, 0.0392156862745098, 0.03717472118959107, 0.1037037037037037, 0.5854616895874263, 1.3320079522862822, 1.5581854043392505, 1.8128654970760234, 1.7602996254681649, 1.908831908831909]\n",
    "rec_18 = [0.6817447495961227, 0.0, 0.048109965635738834, 0.41391304347826086, 1.1028037383177571, 1.4619469026548673, 1.5485008818342152, 1.800711743772242, 1.6988235294117646, 1.5061728395061726]\n",
    "rec_2 = [0.6334519572953737, 0.014598540145985401, 0.15151515151515155, 0.5151515151515151, 1.060665362035225, 1.3295238095238096, 1.4744525547445255, 1.6155268022181146, 1.5644283121597096, 1.811764705882353]\n",
    "rec_25 = [0.15242494226327943, 0.01697792869269949, 0.15151515151515155, 0.4496124031007752, 1.0130841121495326, 1.3235294117647058, 1.6119402985074627, 1.8208955223880599, 1.9699248120300752, 2.0]\n",
    "\n",
    "\n",
    "q_3_663_10 = [1.9834710743801653, 1.3222836095764272, 0.9751434034416825, 0.9163346613545815, 0.736, 0.8704061895551258, 0.734375, 0.6920152091254753, 0.8504854368932038, 0.9349112426035502]\n",
    "q_3_663_60 = [1.8294243070362475, 1.3308550185873604, 0.7509881422924901, 0.7047619047619048, 0.7945205479452055, 0.6073500967117988, 0.7788649706457925, 0.9863547758284601, 1.0751445086705202, 1.2934472934472936]\n",
    "\n",
    "\n",
    "pi_ratios = [0.7210536131530434, 0.7873695067193854, 0.7725778917291553, 0.7118208707450242, 0.7342777380955094, 0.7392175271151585, 0.7261389935720296, 0.6874135852743507, 0.786372905721689, 0.8162870811950581, 0.9093489933773439, 0.20183954022936143, 0.7288658519685947, 0.6527940176443123, 0.6127123347453827, 0.7616761725941585, 0.36840097680221745, 0.35830473328157303\n",
    "]"
   ]
  },
  {
   "cell_type": "code",
   "execution_count": 27,
   "metadata": {},
   "outputs": [
    {
     "data": {
      "image/png": "[encoded data removed]",
      "text/plain": [
       "<Figure size 432x288 with 1 Axes>"
      ]
     },
     "metadata": {
      "needs_background": "light"
     },
     "output_type": "display_data"
    }
   ],
   "source": [
    "names = ['0.05', '0.15', '0.25', '0.35', '0.45', '0.55', '0.65', '0.75', '0.85', '0.95']\n",
    "\n",
    "fig, ax = plt.subplots()\n",
    "# fig.suptitle('Plot At Multiple Velocities (Rectangular Column)')\n",
    "ax.scatter(names, rat_3_t_50, label=\"Spherical-spherical, SI = .68\", marker='o')\n",
    "ax.scatter(names, q_3_663_60, label=\"Spherical-prolate, SI = .3583\", marker='d')\n",
    "# ax.scatter(names, rec_2, label=\"u = 2 m/s, SI = .6127\", marker='d')\n",
    "# ax.scatter(names, rat_4, label=\"Rectangular column\", marker='d')\n",
    "# ax.scatter(names, rat_3_t_50, label=\"u = 50 sec.\", marker='<')\n",
    "# ax.scatter(names, rec_2, label=\"u = 2 m/s\", marker='o')\n",
    "# ax.scatter(names,  rec_25, label=\"u = 2.5 m/s, SI = .7616\", marker='d')\n",
    "# ax.scatter(names, rat_3_t_50, label=\"u = 2.5 m/s\", marker='d')\n",
    "# ax.scatter(names, rat_45, label=\"u = 4.5 m/s\", marker='x')\n",
    "# ax.scatter(names, rat_48, label=\"u = 4.8 m/s\", marker='h')\n",
    "ax.plot(names, normalVal, label=\"Fully mixed\", color='grey', linestyle='dashed')\n",
    "\n",
    "plt.legend(loc='lower right')\n",
    "plt.ylabel(\"Normalised fine particle mass fraction\")\n",
    "plt.xlabel(\"Normalised axial position (y/h)\")\n",
    "# plt.savefig('../graphs/main/ss-sp.svg', format='svg')\n",
    "plt.show()"
   ]
  },
  {
   "cell_type": "code",
   "execution_count": null,
   "metadata": {},
   "outputs": [],
   "source": [
    "\n"
   ]
  }
 ],
 "metadata": {
  "kernelspec": {
   "display_name": "Python 3",
   "language": "python",
   "name": "python3"
  },
  "language_info": {
   "codemirror_mode": {
    "name": "ipython",
    "version": 3
   },
   "file_extension": ".py",
   "mimetype": "text/x-python",
   "name": "python",
   "nbconvert_exporter": "python",
   "pygments_lexer": "ipython3",
   "version": "3.7.3"
  }
 },
 "nbformat": 4,
 "nbformat_minor": 2
}
